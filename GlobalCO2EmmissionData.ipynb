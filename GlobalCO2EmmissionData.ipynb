{
 "cells": [
  {
   "cell_type": "markdown",
   "id": "a8e7d2a9",
   "metadata": {},
   "source": [
    "# Analysis of the global green house emmission over time"
   ]
  },
  {
   "cell_type": "markdown",
   "id": "031aa2be",
   "metadata": {},
   "source": [
    "### Source of data = \"https://ourworldindata.org\""
   ]
  },
  {
   "cell_type": "markdown",
   "id": "86bdff5d",
   "metadata": {},
   "source": [
    "#### Start by importing the modules that are going to be used for the analysis."
   ]
  },
  {
   "cell_type": "code",
   "execution_count": 13,
   "id": "32811de7",
   "metadata": {},
   "outputs": [],
   "source": [
    "import pandas as pd\n",
    "import matplotlib.pyplot as plt\n",
    "import os\n",
    "import seaborn as sb\n",
    "import numpy as np"
   ]
  },
  {
   "cell_type": "markdown",
   "id": "422152b8",
   "metadata": {},
   "source": [
    "#### Check if the data to be analyzed is in the current directory."
   ]
  },
  {
   "cell_type": "code",
   "execution_count": 23,
   "id": "2d08b8d9",
   "metadata": {
    "scrolled": true
   },
   "outputs": [],
   "source": [
    "# check the current working directory\n",
    "# os.getcwd()"
   ]
  },
  {
   "cell_type": "code",
   "execution_count": 27,
   "id": "274541ce",
   "metadata": {},
   "outputs": [],
   "source": [
    "# os.chdir(\"/GIVE_THE_PATH_HERE\")"
   ]
  },
  {
   "cell_type": "code",
   "execution_count": 28,
   "id": "bcd1ac39",
   "metadata": {},
   "outputs": [
    {
     "data": {
      "text/plain": [
       "['Global CO2 Emmission data.xlsx']"
      ]
     },
     "execution_count": 28,
     "metadata": {},
     "output_type": "execute_result"
    }
   ],
   "source": [
    "# make sure that the excel file (\"Global CO2 Emmission data.xlsx\") is there\n",
    "os.listdir()"
   ]
  },
  {
   "cell_type": "markdown",
   "id": "8269b9d8",
   "metadata": {},
   "source": [
    "#### Read the content of the excel file into a data frame named \"complete_df\""
   ]
  },
  {
   "cell_type": "code",
   "execution_count": 29,
   "id": "ea0c0f19",
   "metadata": {},
   "outputs": [],
   "source": [
    "complete_df= pd.read_excel(\"Global CO2 Emmission data.xlsx\")"
   ]
  },
  {
   "cell_type": "code",
   "execution_count": 30,
   "id": "78771af4",
   "metadata": {},
   "outputs": [
    {
     "data": {
      "text/plain": [
       "pandas.core.frame.DataFrame"
      ]
     },
     "execution_count": 30,
     "metadata": {},
     "output_type": "execute_result"
    }
   ],
   "source": [
    "# To check the type of complete_df, use the type() function\n",
    "type(complete_df)"
   ]
  },
  {
   "cell_type": "code",
   "execution_count": 31,
   "id": "f4087438",
   "metadata": {
    "scrolled": false
   },
   "outputs": [
    {
     "data": {
      "text/html": [
       "<div>\n",
       "<style scoped>\n",
       "    .dataframe tbody tr th:only-of-type {\n",
       "        vertical-align: middle;\n",
       "    }\n",
       "\n",
       "    .dataframe tbody tr th {\n",
       "        vertical-align: top;\n",
       "    }\n",
       "\n",
       "    .dataframe thead th {\n",
       "        text-align: right;\n",
       "    }\n",
       "</style>\n",
       "<table border=\"1\" class=\"dataframe\">\n",
       "  <thead>\n",
       "    <tr style=\"text-align: right;\">\n",
       "      <th></th>\n",
       "      <th>country</th>\n",
       "      <th>year</th>\n",
       "      <th>iso_code</th>\n",
       "      <th>population</th>\n",
       "      <th>gdp</th>\n",
       "      <th>cement_co2</th>\n",
       "      <th>cement_co2_per_capita</th>\n",
       "      <th>co2</th>\n",
       "      <th>co2_growth_abs</th>\n",
       "      <th>co2_growth_prct</th>\n",
       "      <th>...</th>\n",
       "      <th>share_global_other_co2</th>\n",
       "      <th>share_of_temperature_change_from_ghg</th>\n",
       "      <th>temperature_change_from_ch4</th>\n",
       "      <th>temperature_change_from_co2</th>\n",
       "      <th>temperature_change_from_ghg</th>\n",
       "      <th>temperature_change_from_n2o</th>\n",
       "      <th>total_ghg</th>\n",
       "      <th>total_ghg_excluding_lucf</th>\n",
       "      <th>trade_co2</th>\n",
       "      <th>trade_co2_share</th>\n",
       "    </tr>\n",
       "  </thead>\n",
       "  <tbody>\n",
       "    <tr>\n",
       "      <th>0</th>\n",
       "      <td>Afghanistan</td>\n",
       "      <td>1850</td>\n",
       "      <td>AFG</td>\n",
       "      <td>3752993.0</td>\n",
       "      <td>NaN</td>\n",
       "      <td>NaN</td>\n",
       "      <td>NaN</td>\n",
       "      <td>NaN</td>\n",
       "      <td>NaN</td>\n",
       "      <td>NaN</td>\n",
       "      <td>...</td>\n",
       "      <td>NaN</td>\n",
       "      <td>NaN</td>\n",
       "      <td>NaN</td>\n",
       "      <td>NaN</td>\n",
       "      <td>NaN</td>\n",
       "      <td>NaN</td>\n",
       "      <td>NaN</td>\n",
       "      <td>NaN</td>\n",
       "      <td>NaN</td>\n",
       "      <td>NaN</td>\n",
       "    </tr>\n",
       "    <tr>\n",
       "      <th>1</th>\n",
       "      <td>Afghanistan</td>\n",
       "      <td>1851</td>\n",
       "      <td>AFG</td>\n",
       "      <td>3769828.0</td>\n",
       "      <td>NaN</td>\n",
       "      <td>NaN</td>\n",
       "      <td>NaN</td>\n",
       "      <td>NaN</td>\n",
       "      <td>NaN</td>\n",
       "      <td>NaN</td>\n",
       "      <td>...</td>\n",
       "      <td>NaN</td>\n",
       "      <td>0.165</td>\n",
       "      <td>0.0</td>\n",
       "      <td>0.0</td>\n",
       "      <td>0.0</td>\n",
       "      <td>0.0</td>\n",
       "      <td>NaN</td>\n",
       "      <td>NaN</td>\n",
       "      <td>NaN</td>\n",
       "      <td>NaN</td>\n",
       "    </tr>\n",
       "    <tr>\n",
       "      <th>2</th>\n",
       "      <td>Afghanistan</td>\n",
       "      <td>1852</td>\n",
       "      <td>AFG</td>\n",
       "      <td>3787706.0</td>\n",
       "      <td>NaN</td>\n",
       "      <td>NaN</td>\n",
       "      <td>NaN</td>\n",
       "      <td>NaN</td>\n",
       "      <td>NaN</td>\n",
       "      <td>NaN</td>\n",
       "      <td>...</td>\n",
       "      <td>NaN</td>\n",
       "      <td>0.164</td>\n",
       "      <td>0.0</td>\n",
       "      <td>0.0</td>\n",
       "      <td>0.0</td>\n",
       "      <td>0.0</td>\n",
       "      <td>NaN</td>\n",
       "      <td>NaN</td>\n",
       "      <td>NaN</td>\n",
       "      <td>NaN</td>\n",
       "    </tr>\n",
       "    <tr>\n",
       "      <th>3</th>\n",
       "      <td>Afghanistan</td>\n",
       "      <td>1853</td>\n",
       "      <td>AFG</td>\n",
       "      <td>3806634.0</td>\n",
       "      <td>NaN</td>\n",
       "      <td>NaN</td>\n",
       "      <td>NaN</td>\n",
       "      <td>NaN</td>\n",
       "      <td>NaN</td>\n",
       "      <td>NaN</td>\n",
       "      <td>...</td>\n",
       "      <td>NaN</td>\n",
       "      <td>0.164</td>\n",
       "      <td>0.0</td>\n",
       "      <td>0.0</td>\n",
       "      <td>0.0</td>\n",
       "      <td>0.0</td>\n",
       "      <td>NaN</td>\n",
       "      <td>NaN</td>\n",
       "      <td>NaN</td>\n",
       "      <td>NaN</td>\n",
       "    </tr>\n",
       "    <tr>\n",
       "      <th>4</th>\n",
       "      <td>Afghanistan</td>\n",
       "      <td>1854</td>\n",
       "      <td>AFG</td>\n",
       "      <td>3825655.0</td>\n",
       "      <td>NaN</td>\n",
       "      <td>NaN</td>\n",
       "      <td>NaN</td>\n",
       "      <td>NaN</td>\n",
       "      <td>NaN</td>\n",
       "      <td>NaN</td>\n",
       "      <td>...</td>\n",
       "      <td>NaN</td>\n",
       "      <td>0.163</td>\n",
       "      <td>0.0</td>\n",
       "      <td>0.0</td>\n",
       "      <td>0.0</td>\n",
       "      <td>0.0</td>\n",
       "      <td>NaN</td>\n",
       "      <td>NaN</td>\n",
       "      <td>NaN</td>\n",
       "      <td>NaN</td>\n",
       "    </tr>\n",
       "  </tbody>\n",
       "</table>\n",
       "<p>5 rows × 79 columns</p>\n",
       "</div>"
      ],
      "text/plain": [
       "       country  year iso_code  population  gdp  cement_co2  \\\n",
       "0  Afghanistan  1850      AFG   3752993.0  NaN         NaN   \n",
       "1  Afghanistan  1851      AFG   3769828.0  NaN         NaN   \n",
       "2  Afghanistan  1852      AFG   3787706.0  NaN         NaN   \n",
       "3  Afghanistan  1853      AFG   3806634.0  NaN         NaN   \n",
       "4  Afghanistan  1854      AFG   3825655.0  NaN         NaN   \n",
       "\n",
       "   cement_co2_per_capita  co2  co2_growth_abs  co2_growth_prct  ...  \\\n",
       "0                    NaN  NaN             NaN              NaN  ...   \n",
       "1                    NaN  NaN             NaN              NaN  ...   \n",
       "2                    NaN  NaN             NaN              NaN  ...   \n",
       "3                    NaN  NaN             NaN              NaN  ...   \n",
       "4                    NaN  NaN             NaN              NaN  ...   \n",
       "\n",
       "   share_global_other_co2  share_of_temperature_change_from_ghg  \\\n",
       "0                     NaN                                   NaN   \n",
       "1                     NaN                                 0.165   \n",
       "2                     NaN                                 0.164   \n",
       "3                     NaN                                 0.164   \n",
       "4                     NaN                                 0.163   \n",
       "\n",
       "   temperature_change_from_ch4  temperature_change_from_co2  \\\n",
       "0                          NaN                          NaN   \n",
       "1                          0.0                          0.0   \n",
       "2                          0.0                          0.0   \n",
       "3                          0.0                          0.0   \n",
       "4                          0.0                          0.0   \n",
       "\n",
       "   temperature_change_from_ghg  temperature_change_from_n2o  total_ghg  \\\n",
       "0                          NaN                          NaN        NaN   \n",
       "1                          0.0                          0.0        NaN   \n",
       "2                          0.0                          0.0        NaN   \n",
       "3                          0.0                          0.0        NaN   \n",
       "4                          0.0                          0.0        NaN   \n",
       "\n",
       "   total_ghg_excluding_lucf  trade_co2  trade_co2_share  \n",
       "0                       NaN        NaN              NaN  \n",
       "1                       NaN        NaN              NaN  \n",
       "2                       NaN        NaN              NaN  \n",
       "3                       NaN        NaN              NaN  \n",
       "4                       NaN        NaN              NaN  \n",
       "\n",
       "[5 rows x 79 columns]"
      ]
     },
     "execution_count": 31,
     "metadata": {},
     "output_type": "execute_result"
    }
   ],
   "source": [
    "# Let's check the content of the data frame using the head() and tail() functions\n",
    "complete_df.head(5)"
   ]
  },
  {
   "cell_type": "markdown",
   "id": "0010413b",
   "metadata": {},
   "source": [
    "#### Notice that there are a lot of NaN values at the begining of the table. We will remove these entries later. "
   ]
  },
  {
   "cell_type": "code",
   "execution_count": 32,
   "id": "7b5e83c6",
   "metadata": {
    "scrolled": true
   },
   "outputs": [
    {
     "data": {
      "text/html": [
       "<div>\n",
       "<style scoped>\n",
       "    .dataframe tbody tr th:only-of-type {\n",
       "        vertical-align: middle;\n",
       "    }\n",
       "\n",
       "    .dataframe tbody tr th {\n",
       "        vertical-align: top;\n",
       "    }\n",
       "\n",
       "    .dataframe thead th {\n",
       "        text-align: right;\n",
       "    }\n",
       "</style>\n",
       "<table border=\"1\" class=\"dataframe\">\n",
       "  <thead>\n",
       "    <tr style=\"text-align: right;\">\n",
       "      <th></th>\n",
       "      <th>country</th>\n",
       "      <th>year</th>\n",
       "      <th>iso_code</th>\n",
       "      <th>population</th>\n",
       "      <th>gdp</th>\n",
       "      <th>cement_co2</th>\n",
       "      <th>cement_co2_per_capita</th>\n",
       "      <th>co2</th>\n",
       "      <th>co2_growth_abs</th>\n",
       "      <th>co2_growth_prct</th>\n",
       "      <th>...</th>\n",
       "      <th>share_global_other_co2</th>\n",
       "      <th>share_of_temperature_change_from_ghg</th>\n",
       "      <th>temperature_change_from_ch4</th>\n",
       "      <th>temperature_change_from_co2</th>\n",
       "      <th>temperature_change_from_ghg</th>\n",
       "      <th>temperature_change_from_n2o</th>\n",
       "      <th>total_ghg</th>\n",
       "      <th>total_ghg_excluding_lucf</th>\n",
       "      <th>trade_co2</th>\n",
       "      <th>trade_co2_share</th>\n",
       "    </tr>\n",
       "  </thead>\n",
       "  <tbody>\n",
       "    <tr>\n",
       "      <th>50593</th>\n",
       "      <td>Zimbabwe</td>\n",
       "      <td>2017</td>\n",
       "      <td>ZWE</td>\n",
       "      <td>14751101.0</td>\n",
       "      <td>2.194784e+10</td>\n",
       "      <td>0.469</td>\n",
       "      <td>0.032</td>\n",
       "      <td>9.596</td>\n",
       "      <td>-0.937</td>\n",
       "      <td>-8.899</td>\n",
       "      <td>...</td>\n",
       "      <td>NaN</td>\n",
       "      <td>0.114</td>\n",
       "      <td>0.001</td>\n",
       "      <td>0.001</td>\n",
       "      <td>0.002</td>\n",
       "      <td>0.0</td>\n",
       "      <td>115.59</td>\n",
       "      <td>28.30</td>\n",
       "      <td>0.910</td>\n",
       "      <td>9.486</td>\n",
       "    </tr>\n",
       "    <tr>\n",
       "      <th>50594</th>\n",
       "      <td>Zimbabwe</td>\n",
       "      <td>2018</td>\n",
       "      <td>ZWE</td>\n",
       "      <td>15052191.0</td>\n",
       "      <td>2.271535e+10</td>\n",
       "      <td>0.558</td>\n",
       "      <td>0.037</td>\n",
       "      <td>11.795</td>\n",
       "      <td>2.199</td>\n",
       "      <td>22.920</td>\n",
       "      <td>...</td>\n",
       "      <td>NaN</td>\n",
       "      <td>0.114</td>\n",
       "      <td>0.001</td>\n",
       "      <td>0.001</td>\n",
       "      <td>0.002</td>\n",
       "      <td>0.0</td>\n",
       "      <td>118.22</td>\n",
       "      <td>30.83</td>\n",
       "      <td>0.771</td>\n",
       "      <td>6.537</td>\n",
       "    </tr>\n",
       "    <tr>\n",
       "      <th>50595</th>\n",
       "      <td>Zimbabwe</td>\n",
       "      <td>2019</td>\n",
       "      <td>ZWE</td>\n",
       "      <td>15354606.0</td>\n",
       "      <td>NaN</td>\n",
       "      <td>0.570</td>\n",
       "      <td>0.037</td>\n",
       "      <td>11.115</td>\n",
       "      <td>-0.681</td>\n",
       "      <td>-5.772</td>\n",
       "      <td>...</td>\n",
       "      <td>NaN</td>\n",
       "      <td>0.113</td>\n",
       "      <td>0.001</td>\n",
       "      <td>0.001</td>\n",
       "      <td>0.002</td>\n",
       "      <td>0.0</td>\n",
       "      <td>117.96</td>\n",
       "      <td>30.53</td>\n",
       "      <td>0.978</td>\n",
       "      <td>8.795</td>\n",
       "    </tr>\n",
       "    <tr>\n",
       "      <th>50596</th>\n",
       "      <td>Zimbabwe</td>\n",
       "      <td>2020</td>\n",
       "      <td>ZWE</td>\n",
       "      <td>15669663.0</td>\n",
       "      <td>NaN</td>\n",
       "      <td>0.570</td>\n",
       "      <td>0.036</td>\n",
       "      <td>10.608</td>\n",
       "      <td>-0.507</td>\n",
       "      <td>-4.559</td>\n",
       "      <td>...</td>\n",
       "      <td>NaN</td>\n",
       "      <td>0.112</td>\n",
       "      <td>0.001</td>\n",
       "      <td>0.001</td>\n",
       "      <td>0.002</td>\n",
       "      <td>0.0</td>\n",
       "      <td>NaN</td>\n",
       "      <td>NaN</td>\n",
       "      <td>1.006</td>\n",
       "      <td>9.481</td>\n",
       "    </tr>\n",
       "    <tr>\n",
       "      <th>50597</th>\n",
       "      <td>Zimbabwe</td>\n",
       "      <td>2021</td>\n",
       "      <td>ZWE</td>\n",
       "      <td>15993525.0</td>\n",
       "      <td>NaN</td>\n",
       "      <td>0.570</td>\n",
       "      <td>0.036</td>\n",
       "      <td>11.296</td>\n",
       "      <td>0.688</td>\n",
       "      <td>6.488</td>\n",
       "      <td>...</td>\n",
       "      <td>NaN</td>\n",
       "      <td>0.111</td>\n",
       "      <td>0.001</td>\n",
       "      <td>0.001</td>\n",
       "      <td>0.002</td>\n",
       "      <td>0.0</td>\n",
       "      <td>NaN</td>\n",
       "      <td>NaN</td>\n",
       "      <td>NaN</td>\n",
       "      <td>NaN</td>\n",
       "    </tr>\n",
       "  </tbody>\n",
       "</table>\n",
       "<p>5 rows × 79 columns</p>\n",
       "</div>"
      ],
      "text/plain": [
       "        country  year iso_code  population           gdp  cement_co2  \\\n",
       "50593  Zimbabwe  2017      ZWE  14751101.0  2.194784e+10       0.469   \n",
       "50594  Zimbabwe  2018      ZWE  15052191.0  2.271535e+10       0.558   \n",
       "50595  Zimbabwe  2019      ZWE  15354606.0           NaN       0.570   \n",
       "50596  Zimbabwe  2020      ZWE  15669663.0           NaN       0.570   \n",
       "50597  Zimbabwe  2021      ZWE  15993525.0           NaN       0.570   \n",
       "\n",
       "       cement_co2_per_capita     co2  co2_growth_abs  co2_growth_prct  ...  \\\n",
       "50593                  0.032   9.596          -0.937           -8.899  ...   \n",
       "50594                  0.037  11.795           2.199           22.920  ...   \n",
       "50595                  0.037  11.115          -0.681           -5.772  ...   \n",
       "50596                  0.036  10.608          -0.507           -4.559  ...   \n",
       "50597                  0.036  11.296           0.688            6.488  ...   \n",
       "\n",
       "       share_global_other_co2  share_of_temperature_change_from_ghg  \\\n",
       "50593                     NaN                                 0.114   \n",
       "50594                     NaN                                 0.114   \n",
       "50595                     NaN                                 0.113   \n",
       "50596                     NaN                                 0.112   \n",
       "50597                     NaN                                 0.111   \n",
       "\n",
       "       temperature_change_from_ch4  temperature_change_from_co2  \\\n",
       "50593                        0.001                        0.001   \n",
       "50594                        0.001                        0.001   \n",
       "50595                        0.001                        0.001   \n",
       "50596                        0.001                        0.001   \n",
       "50597                        0.001                        0.001   \n",
       "\n",
       "       temperature_change_from_ghg  temperature_change_from_n2o  total_ghg  \\\n",
       "50593                        0.002                          0.0     115.59   \n",
       "50594                        0.002                          0.0     118.22   \n",
       "50595                        0.002                          0.0     117.96   \n",
       "50596                        0.002                          0.0        NaN   \n",
       "50597                        0.002                          0.0        NaN   \n",
       "\n",
       "       total_ghg_excluding_lucf  trade_co2  trade_co2_share  \n",
       "50593                     28.30      0.910            9.486  \n",
       "50594                     30.83      0.771            6.537  \n",
       "50595                     30.53      0.978            8.795  \n",
       "50596                       NaN      1.006            9.481  \n",
       "50597                       NaN        NaN              NaN  \n",
       "\n",
       "[5 rows x 79 columns]"
      ]
     },
     "execution_count": 32,
     "metadata": {},
     "output_type": "execute_result"
    }
   ],
   "source": [
    "complete_df.tail(5)"
   ]
  },
  {
   "cell_type": "markdown",
   "id": "8a5d3741",
   "metadata": {},
   "source": [
    "#### Assess the dimensions and the column names of the dataframe "
   ]
  },
  {
   "cell_type": "code",
   "execution_count": 33,
   "id": "8324e7eb",
   "metadata": {},
   "outputs": [
    {
     "data": {
      "text/plain": [
       "(50598, 79)"
      ]
     },
     "execution_count": 33,
     "metadata": {},
     "output_type": "execute_result"
    }
   ],
   "source": [
    "# Let's check the dimensions of the dataframe\n",
    "complete_df.shape"
   ]
  },
  {
   "cell_type": "code",
   "execution_count": 34,
   "id": "299122a0",
   "metadata": {
    "scrolled": true
   },
   "outputs": [
    {
     "data": {
      "text/plain": [
       "Index(['country', 'year', 'iso_code', 'population', 'gdp', 'cement_co2',\n",
       "       'cement_co2_per_capita', 'co2', 'co2_growth_abs', 'co2_growth_prct',\n",
       "       'co2_including_luc', 'co2_including_luc_growth_abs',\n",
       "       'co2_including_luc_growth_prct', 'co2_including_luc_per_capita',\n",
       "       'co2_including_luc_per_gdp', 'co2_including_luc_per_unit_energy',\n",
       "       'co2_per_capita', 'co2_per_gdp', 'co2_per_unit_energy', 'coal_co2',\n",
       "       'coal_co2_per_capita', 'consumption_co2', 'consumption_co2_per_capita',\n",
       "       'consumption_co2_per_gdp', 'cumulative_cement_co2'],\n",
       "      dtype='object')"
      ]
     },
     "execution_count": 34,
     "metadata": {},
     "output_type": "execute_result"
    }
   ],
   "source": [
    "# Let's look at the names of the 79 columns to choose the ones that we are interested in\n",
    "complete_df.columns[0:25]"
   ]
  },
  {
   "cell_type": "markdown",
   "id": "caf298ee",
   "metadata": {},
   "source": [
    "#### Filter the dataframe to extract only the colums of interest"
   ]
  },
  {
   "cell_type": "code",
   "execution_count": 35,
   "id": "8aae7e68",
   "metadata": {
    "scrolled": true
   },
   "outputs": [
    {
     "data": {
      "text/html": [
       "<div>\n",
       "<style scoped>\n",
       "    .dataframe tbody tr th:only-of-type {\n",
       "        vertical-align: middle;\n",
       "    }\n",
       "\n",
       "    .dataframe tbody tr th {\n",
       "        vertical-align: top;\n",
       "    }\n",
       "\n",
       "    .dataframe thead th {\n",
       "        text-align: right;\n",
       "    }\n",
       "</style>\n",
       "<table border=\"1\" class=\"dataframe\">\n",
       "  <thead>\n",
       "    <tr style=\"text-align: right;\">\n",
       "      <th></th>\n",
       "      <th>country</th>\n",
       "      <th>year</th>\n",
       "      <th>population</th>\n",
       "      <th>gdp</th>\n",
       "      <th>co2</th>\n",
       "      <th>methane</th>\n",
       "      <th>nitrous_oxide</th>\n",
       "    </tr>\n",
       "  </thead>\n",
       "  <tbody>\n",
       "    <tr>\n",
       "      <th>0</th>\n",
       "      <td>Afghanistan</td>\n",
       "      <td>1850</td>\n",
       "      <td>3752993.0</td>\n",
       "      <td>NaN</td>\n",
       "      <td>NaN</td>\n",
       "      <td>NaN</td>\n",
       "      <td>NaN</td>\n",
       "    </tr>\n",
       "    <tr>\n",
       "      <th>1</th>\n",
       "      <td>Afghanistan</td>\n",
       "      <td>1851</td>\n",
       "      <td>3769828.0</td>\n",
       "      <td>NaN</td>\n",
       "      <td>NaN</td>\n",
       "      <td>NaN</td>\n",
       "      <td>NaN</td>\n",
       "    </tr>\n",
       "    <tr>\n",
       "      <th>2</th>\n",
       "      <td>Afghanistan</td>\n",
       "      <td>1852</td>\n",
       "      <td>3787706.0</td>\n",
       "      <td>NaN</td>\n",
       "      <td>NaN</td>\n",
       "      <td>NaN</td>\n",
       "      <td>NaN</td>\n",
       "    </tr>\n",
       "    <tr>\n",
       "      <th>3</th>\n",
       "      <td>Afghanistan</td>\n",
       "      <td>1853</td>\n",
       "      <td>3806634.0</td>\n",
       "      <td>NaN</td>\n",
       "      <td>NaN</td>\n",
       "      <td>NaN</td>\n",
       "      <td>NaN</td>\n",
       "    </tr>\n",
       "    <tr>\n",
       "      <th>4</th>\n",
       "      <td>Afghanistan</td>\n",
       "      <td>1854</td>\n",
       "      <td>3825655.0</td>\n",
       "      <td>NaN</td>\n",
       "      <td>NaN</td>\n",
       "      <td>NaN</td>\n",
       "      <td>NaN</td>\n",
       "    </tr>\n",
       "  </tbody>\n",
       "</table>\n",
       "</div>"
      ],
      "text/plain": [
       "       country  year  population  gdp  co2  methane  nitrous_oxide\n",
       "0  Afghanistan  1850   3752993.0  NaN  NaN      NaN            NaN\n",
       "1  Afghanistan  1851   3769828.0  NaN  NaN      NaN            NaN\n",
       "2  Afghanistan  1852   3787706.0  NaN  NaN      NaN            NaN\n",
       "3  Afghanistan  1853   3806634.0  NaN  NaN      NaN            NaN\n",
       "4  Afghanistan  1854   3825655.0  NaN  NaN      NaN            NaN"
      ]
     },
     "execution_count": 35,
     "metadata": {},
     "output_type": "execute_result"
    }
   ],
   "source": [
    "# Let's extract only the columns of interest and save it as \"df\"\n",
    "df = complete_df[['country','year', 'population', 'gdp', 'co2', 'methane','nitrous_oxide']]\n",
    "df.head()"
   ]
  },
  {
   "cell_type": "markdown",
   "id": "18fb5555",
   "metadata": {},
   "source": [
    "#### Let's see how many unique countries there are in the data frame"
   ]
  },
  {
   "cell_type": "code",
   "execution_count": 36,
   "id": "a680a921",
   "metadata": {},
   "outputs": [
    {
     "data": {
      "text/plain": [
       "278"
      ]
     },
     "execution_count": 36,
     "metadata": {},
     "output_type": "execute_result"
    }
   ],
   "source": [
    "len(df.country.unique())"
   ]
  },
  {
   "cell_type": "markdown",
   "id": "5a5b6a53",
   "metadata": {},
   "source": [
    "#### Note that 278 more than the total number of countries in the world. So, let's list the counries to inspect this further."
   ]
  },
  {
   "cell_type": "code",
   "execution_count": 37,
   "id": "509a432a",
   "metadata": {},
   "outputs": [
    {
     "data": {
      "text/plain": [
       "array(['Afghanistan', 'Africa', 'Africa (GCP)', 'Aland Islands',\n",
       "       'Albania', 'Algeria', 'American Samoa', 'Andorra', 'Angola',\n",
       "       'Anguilla', 'Antarctica', 'Antigua and Barbuda', 'Argentina',\n",
       "       'Armenia', 'Aruba', 'Asia', 'Asia (GCP)',\n",
       "       'Asia (excl. China and India)', 'Australia', 'Austria',\n",
       "       'Azerbaijan', 'Bahamas', 'Bahrain', 'Bangladesh', 'Barbados',\n",
       "       'Belarus', 'Belgium', 'Belize', 'Benin', 'Bermuda'], dtype=object)"
      ]
     },
     "execution_count": 37,
     "metadata": {},
     "output_type": "execute_result"
    }
   ],
   "source": [
    "df.country.unique()[0:30]"
   ]
  },
  {
   "cell_type": "markdown",
   "id": "06a83f13",
   "metadata": {},
   "source": [
    "#### We see that the dataframe also contains continents, economic regions etc in addition to countries. \n",
    "#### Let's remove all entries other than countries from the dataframe. We wil do this in a couple of steps:"
   ]
  },
  {
   "cell_type": "markdown",
   "id": "cc7dd51c",
   "metadata": {},
   "source": [
    "#### Step1:  Let's make the \"country\" column the index of the dataframe and check the dataframe"
   ]
  },
  {
   "cell_type": "code",
   "execution_count": 38,
   "id": "85d9fb56",
   "metadata": {},
   "outputs": [],
   "source": [
    "df.set_index(\"country\", inplace =True)"
   ]
  },
  {
   "cell_type": "code",
   "execution_count": 39,
   "id": "efc00ebb",
   "metadata": {
    "scrolled": true
   },
   "outputs": [
    {
     "data": {
      "text/html": [
       "<div>\n",
       "<style scoped>\n",
       "    .dataframe tbody tr th:only-of-type {\n",
       "        vertical-align: middle;\n",
       "    }\n",
       "\n",
       "    .dataframe tbody tr th {\n",
       "        vertical-align: top;\n",
       "    }\n",
       "\n",
       "    .dataframe thead th {\n",
       "        text-align: right;\n",
       "    }\n",
       "</style>\n",
       "<table border=\"1\" class=\"dataframe\">\n",
       "  <thead>\n",
       "    <tr style=\"text-align: right;\">\n",
       "      <th></th>\n",
       "      <th>year</th>\n",
       "      <th>population</th>\n",
       "      <th>gdp</th>\n",
       "      <th>co2</th>\n",
       "      <th>methane</th>\n",
       "      <th>nitrous_oxide</th>\n",
       "    </tr>\n",
       "    <tr>\n",
       "      <th>country</th>\n",
       "      <th></th>\n",
       "      <th></th>\n",
       "      <th></th>\n",
       "      <th></th>\n",
       "      <th></th>\n",
       "      <th></th>\n",
       "    </tr>\n",
       "  </thead>\n",
       "  <tbody>\n",
       "    <tr>\n",
       "      <th>Afghanistan</th>\n",
       "      <td>1850</td>\n",
       "      <td>3752993.0</td>\n",
       "      <td>NaN</td>\n",
       "      <td>NaN</td>\n",
       "      <td>NaN</td>\n",
       "      <td>NaN</td>\n",
       "    </tr>\n",
       "    <tr>\n",
       "      <th>Afghanistan</th>\n",
       "      <td>1851</td>\n",
       "      <td>3769828.0</td>\n",
       "      <td>NaN</td>\n",
       "      <td>NaN</td>\n",
       "      <td>NaN</td>\n",
       "      <td>NaN</td>\n",
       "    </tr>\n",
       "    <tr>\n",
       "      <th>Afghanistan</th>\n",
       "      <td>1852</td>\n",
       "      <td>3787706.0</td>\n",
       "      <td>NaN</td>\n",
       "      <td>NaN</td>\n",
       "      <td>NaN</td>\n",
       "      <td>NaN</td>\n",
       "    </tr>\n",
       "    <tr>\n",
       "      <th>Afghanistan</th>\n",
       "      <td>1853</td>\n",
       "      <td>3806634.0</td>\n",
       "      <td>NaN</td>\n",
       "      <td>NaN</td>\n",
       "      <td>NaN</td>\n",
       "      <td>NaN</td>\n",
       "    </tr>\n",
       "    <tr>\n",
       "      <th>Afghanistan</th>\n",
       "      <td>1854</td>\n",
       "      <td>3825655.0</td>\n",
       "      <td>NaN</td>\n",
       "      <td>NaN</td>\n",
       "      <td>NaN</td>\n",
       "      <td>NaN</td>\n",
       "    </tr>\n",
       "  </tbody>\n",
       "</table>\n",
       "</div>"
      ],
      "text/plain": [
       "             year  population  gdp  co2  methane  nitrous_oxide\n",
       "country                                                        \n",
       "Afghanistan  1850   3752993.0  NaN  NaN      NaN            NaN\n",
       "Afghanistan  1851   3769828.0  NaN  NaN      NaN            NaN\n",
       "Afghanistan  1852   3787706.0  NaN  NaN      NaN            NaN\n",
       "Afghanistan  1853   3806634.0  NaN  NaN      NaN            NaN\n",
       "Afghanistan  1854   3825655.0  NaN  NaN      NaN            NaN"
      ]
     },
     "execution_count": 39,
     "metadata": {},
     "output_type": "execute_result"
    }
   ],
   "source": [
    "df.head(5)"
   ]
  },
  {
   "cell_type": "code",
   "execution_count": 40,
   "id": "3277c38c",
   "metadata": {},
   "outputs": [
    {
     "data": {
      "text/plain": [
       "(50598, 6)"
      ]
     },
     "execution_count": 40,
     "metadata": {},
     "output_type": "execute_result"
    }
   ],
   "source": [
    "df.shape"
   ]
  },
  {
   "cell_type": "code",
   "execution_count": 41,
   "id": "98bb2378",
   "metadata": {},
   "outputs": [
    {
     "data": {
      "text/plain": [
       "Index(['Afghanistan', 'Afghanistan', 'Afghanistan', 'Afghanistan',\n",
       "       'Afghanistan', 'Afghanistan', 'Afghanistan', 'Afghanistan',\n",
       "       'Afghanistan', 'Afghanistan',\n",
       "       ...\n",
       "       'Zimbabwe', 'Zimbabwe', 'Zimbabwe', 'Zimbabwe', 'Zimbabwe', 'Zimbabwe',\n",
       "       'Zimbabwe', 'Zimbabwe', 'Zimbabwe', 'Zimbabwe'],\n",
       "      dtype='object', name='country', length=50598)"
      ]
     },
     "execution_count": 41,
     "metadata": {},
     "output_type": "execute_result"
    }
   ],
   "source": [
    "df.index"
   ]
  },
  {
   "cell_type": "code",
   "execution_count": 42,
   "id": "713ed19d",
   "metadata": {},
   "outputs": [
    {
     "data": {
      "text/plain": [
       "(50598, 6)"
      ]
     },
     "execution_count": 42,
     "metadata": {},
     "output_type": "execute_result"
    }
   ],
   "source": [
    "df.shape"
   ]
  },
  {
   "cell_type": "markdown",
   "id": "8e6d94ba",
   "metadata": {},
   "source": [
    "#### Step 2: Let's extract the data only for countries (excluding countinents, regions, grouped income countries etc)"
   ]
  },
  {
   "cell_type": "code",
   "execution_count": 43,
   "id": "ff930821",
   "metadata": {},
   "outputs": [
    {
     "name": "stdout",
     "output_type": "stream",
     "text": [
      "<class 'set'>\n",
      "<class 'list'>\n"
     ]
    }
   ],
   "source": [
    "\n",
    "drop_list = set([\"Upper-middle-income countries\", \"High-income countries\", 'Africa (GCP)', 'Asia (excl. China and India)', \n",
    "             \"World\",\"Asia (GCP)\", 'Antarctica', 'Oceania', 'Oceania (GCP)',\n",
    "             \"Europe\", \"Europe (GCP)\", 'Europe (excl. EU-27)','Europe (excl. EU-28)', 'European Union (27)',\n",
    "             'European Union (27) (GCP)', 'European Union (28)',\n",
    "             \"Reunion\", 'French Equatorial Africa (GCP)', 'South America (GCP)',\n",
    "             \"Lower-middle-income countries\",'Least developed countries (Jones et al. 2023)',\n",
    "             \"Low-income countries\",'Leeward Islands (Jones et al. 2023)',\n",
    "             \"Least developed countries (Jones et al. 2023)\",'Low-income countries',\n",
    "             'Panama Canal Zone (GCP)','Panama Canal Zone (Jones et al. 2023)',\n",
    "             'Ryukyu Islands (GCP)', 'Ryukyu Islands (Jones et al. 2023)', \n",
    "             \"French West Africa (Jones et al. 2023)\", 'St. Kitts-Nevis-Anguilla (GCP)',\n",
    "             \"OECD (Jones et al. 2023)\", \"Middle East (GCP)\", \"Non-OECD (GCP)\",\n",
    "             \"North America\",'Kuwaiti Oil Fires (GCP)', 'Kuwaiti Oil Fires (Jones et al. 2023)',\n",
    "             \"Central America (GCP)\",\"OECD (GCP)\",'North America', 'North America (GCP)',\n",
    "            'North America (excl. USA)', \"South America\", 'Kuwaiti Oil Fires (Jones et al. 2023)', \n",
    "             \"Africa\", \"Panama Canal Zone (Jones et al. 2023)\", \"Panama Canal Zone (GCP)\",\n",
    "             \"Asia\", \"International transport\", \"French Equatorial Africa (Jones et al. 2023)\", \n",
    "            \"St. Kitts-Nevis-Anguilla (Jones et al. 2023)\", \"South America (GCP)\"\n",
    "            ])\n",
    "print(type(drop_list))\n",
    "drop_list= list(drop_list)\n",
    "print(type(drop_list))"
   ]
  },
  {
   "cell_type": "code",
   "execution_count": 44,
   "id": "f0d5a00f",
   "metadata": {},
   "outputs": [
    {
     "data": {
      "text/plain": [
       "45"
      ]
     },
     "execution_count": 44,
     "metadata": {},
     "output_type": "execute_result"
    }
   ],
   "source": [
    "# Let's check the number of items to be removed from the dataframe\n",
    "\n",
    "len(drop_list)"
   ]
  },
  {
   "cell_type": "markdown",
   "id": "401e2911",
   "metadata": {},
   "source": [
    "#### Check if the drop_list contains the entries that we want to remove. Check to 10 items"
   ]
  },
  {
   "cell_type": "code",
   "execution_count": 45,
   "id": "e777c701",
   "metadata": {
    "scrolled": true
   },
   "outputs": [
    {
     "name": "stdout",
     "output_type": "stream",
     "text": [
      "OECD (GCP)\n",
      "Reunion\n",
      "European Union (27)\n",
      "Kuwaiti Oil Fires (GCP)\n",
      "North America (excl. USA)\n",
      "Europe (excl. EU-28)\n",
      "St. Kitts-Nevis-Anguilla (Jones et al. 2023)\n",
      "European Union (27) (GCP)\n",
      "Kuwaiti Oil Fires (Jones et al. 2023)\n",
      "Least developed countries (Jones et al. 2023)\n"
     ]
    }
   ],
   "source": [
    "for country in drop_list[1:11]:\n",
    "    print(country)"
   ]
  },
  {
   "cell_type": "markdown",
   "id": "070a5f88",
   "metadata": {},
   "source": [
    "#### Step 3: Use the df.drop() function to remove entries in the drop_list and check the dimension of the df"
   ]
  },
  {
   "cell_type": "code",
   "execution_count": 46,
   "id": "7371e841",
   "metadata": {
    "scrolled": true
   },
   "outputs": [],
   "source": [
    "df = df.drop(drop_list, axis = 0)"
   ]
  },
  {
   "cell_type": "code",
   "execution_count": 47,
   "id": "4bc71c8d",
   "metadata": {},
   "outputs": [
    {
     "data": {
      "text/plain": [
       "(41886, 6)"
      ]
     },
     "execution_count": 47,
     "metadata": {},
     "output_type": "execute_result"
    }
   ],
   "source": [
    "df.shape"
   ]
  },
  {
   "cell_type": "markdown",
   "id": "672521c6",
   "metadata": {},
   "source": [
    "#### Note that we have dropped 8712 rows from the dataframe. "
   ]
  },
  {
   "cell_type": "code",
   "execution_count": 48,
   "id": "6840e85e",
   "metadata": {
    "scrolled": false
   },
   "outputs": [],
   "source": [
    "# Now, let reset the index \n",
    "df.reset_index(inplace=True)"
   ]
  },
  {
   "cell_type": "code",
   "execution_count": 49,
   "id": "20debc5a",
   "metadata": {
    "scrolled": true
   },
   "outputs": [
    {
     "data": {
      "text/plain": [
       "Index(['country', 'year', 'population', 'gdp', 'co2', 'methane',\n",
       "       'nitrous_oxide'],\n",
       "      dtype='object')"
      ]
     },
     "execution_count": 49,
     "metadata": {},
     "output_type": "execute_result"
    }
   ],
   "source": [
    "# check the column names\n",
    "df.columns"
   ]
  },
  {
   "cell_type": "code",
   "execution_count": 50,
   "id": "824ff751",
   "metadata": {},
   "outputs": [
    {
     "data": {
      "text/html": [
       "<div>\n",
       "<style scoped>\n",
       "    .dataframe tbody tr th:only-of-type {\n",
       "        vertical-align: middle;\n",
       "    }\n",
       "\n",
       "    .dataframe tbody tr th {\n",
       "        vertical-align: top;\n",
       "    }\n",
       "\n",
       "    .dataframe thead th {\n",
       "        text-align: right;\n",
       "    }\n",
       "</style>\n",
       "<table border=\"1\" class=\"dataframe\">\n",
       "  <thead>\n",
       "    <tr style=\"text-align: right;\">\n",
       "      <th></th>\n",
       "      <th>country</th>\n",
       "      <th>year</th>\n",
       "      <th>population</th>\n",
       "      <th>gdp</th>\n",
       "      <th>co2</th>\n",
       "      <th>methane</th>\n",
       "      <th>nitrous_oxide</th>\n",
       "    </tr>\n",
       "  </thead>\n",
       "  <tbody>\n",
       "    <tr>\n",
       "      <th>0</th>\n",
       "      <td>Afghanistan</td>\n",
       "      <td>1850</td>\n",
       "      <td>3752993.0</td>\n",
       "      <td>NaN</td>\n",
       "      <td>NaN</td>\n",
       "      <td>NaN</td>\n",
       "      <td>NaN</td>\n",
       "    </tr>\n",
       "    <tr>\n",
       "      <th>1</th>\n",
       "      <td>Afghanistan</td>\n",
       "      <td>1851</td>\n",
       "      <td>3769828.0</td>\n",
       "      <td>NaN</td>\n",
       "      <td>NaN</td>\n",
       "      <td>NaN</td>\n",
       "      <td>NaN</td>\n",
       "    </tr>\n",
       "    <tr>\n",
       "      <th>2</th>\n",
       "      <td>Afghanistan</td>\n",
       "      <td>1852</td>\n",
       "      <td>3787706.0</td>\n",
       "      <td>NaN</td>\n",
       "      <td>NaN</td>\n",
       "      <td>NaN</td>\n",
       "      <td>NaN</td>\n",
       "    </tr>\n",
       "    <tr>\n",
       "      <th>3</th>\n",
       "      <td>Afghanistan</td>\n",
       "      <td>1853</td>\n",
       "      <td>3806634.0</td>\n",
       "      <td>NaN</td>\n",
       "      <td>NaN</td>\n",
       "      <td>NaN</td>\n",
       "      <td>NaN</td>\n",
       "    </tr>\n",
       "    <tr>\n",
       "      <th>4</th>\n",
       "      <td>Afghanistan</td>\n",
       "      <td>1854</td>\n",
       "      <td>3825655.0</td>\n",
       "      <td>NaN</td>\n",
       "      <td>NaN</td>\n",
       "      <td>NaN</td>\n",
       "      <td>NaN</td>\n",
       "    </tr>\n",
       "  </tbody>\n",
       "</table>\n",
       "</div>"
      ],
      "text/plain": [
       "       country  year  population  gdp  co2  methane  nitrous_oxide\n",
       "0  Afghanistan  1850   3752993.0  NaN  NaN      NaN            NaN\n",
       "1  Afghanistan  1851   3769828.0  NaN  NaN      NaN            NaN\n",
       "2  Afghanistan  1852   3787706.0  NaN  NaN      NaN            NaN\n",
       "3  Afghanistan  1853   3806634.0  NaN  NaN      NaN            NaN\n",
       "4  Afghanistan  1854   3825655.0  NaN  NaN      NaN            NaN"
      ]
     },
     "execution_count": 50,
     "metadata": {},
     "output_type": "execute_result"
    }
   ],
   "source": [
    "df.head()"
   ]
  },
  {
   "cell_type": "markdown",
   "id": "5e161173",
   "metadata": {},
   "source": [
    "#### Let's check if some of the items that we wanted to drop (E.g. Europe, World) are in the dataframe or not. "
   ]
  },
  {
   "cell_type": "code",
   "execution_count": 51,
   "id": "a7504f56",
   "metadata": {
    "scrolled": false
   },
   "outputs": [
    {
     "data": {
      "text/html": [
       "<div>\n",
       "<style scoped>\n",
       "    .dataframe tbody tr th:only-of-type {\n",
       "        vertical-align: middle;\n",
       "    }\n",
       "\n",
       "    .dataframe tbody tr th {\n",
       "        vertical-align: top;\n",
       "    }\n",
       "\n",
       "    .dataframe thead th {\n",
       "        text-align: right;\n",
       "    }\n",
       "</style>\n",
       "<table border=\"1\" class=\"dataframe\">\n",
       "  <thead>\n",
       "    <tr style=\"text-align: right;\">\n",
       "      <th></th>\n",
       "      <th>country</th>\n",
       "      <th>year</th>\n",
       "      <th>population</th>\n",
       "      <th>gdp</th>\n",
       "      <th>co2</th>\n",
       "      <th>methane</th>\n",
       "      <th>nitrous_oxide</th>\n",
       "    </tr>\n",
       "  </thead>\n",
       "  <tbody>\n",
       "  </tbody>\n",
       "</table>\n",
       "</div>"
      ],
      "text/plain": [
       "Empty DataFrame\n",
       "Columns: [country, year, population, gdp, co2, methane, nitrous_oxide]\n",
       "Index: []"
      ]
     },
     "execution_count": 51,
     "metadata": {},
     "output_type": "execute_result"
    }
   ],
   "source": [
    "df[df['country']=='Europe']"
   ]
  },
  {
   "cell_type": "code",
   "execution_count": 52,
   "id": "729bc053",
   "metadata": {
    "scrolled": true
   },
   "outputs": [
    {
     "data": {
      "text/html": [
       "<div>\n",
       "<style scoped>\n",
       "    .dataframe tbody tr th:only-of-type {\n",
       "        vertical-align: middle;\n",
       "    }\n",
       "\n",
       "    .dataframe tbody tr th {\n",
       "        vertical-align: top;\n",
       "    }\n",
       "\n",
       "    .dataframe thead th {\n",
       "        text-align: right;\n",
       "    }\n",
       "</style>\n",
       "<table border=\"1\" class=\"dataframe\">\n",
       "  <thead>\n",
       "    <tr style=\"text-align: right;\">\n",
       "      <th></th>\n",
       "      <th>country</th>\n",
       "      <th>year</th>\n",
       "      <th>population</th>\n",
       "      <th>gdp</th>\n",
       "      <th>co2</th>\n",
       "      <th>methane</th>\n",
       "      <th>nitrous_oxide</th>\n",
       "    </tr>\n",
       "  </thead>\n",
       "  <tbody>\n",
       "  </tbody>\n",
       "</table>\n",
       "</div>"
      ],
      "text/plain": [
       "Empty DataFrame\n",
       "Columns: [country, year, population, gdp, co2, methane, nitrous_oxide]\n",
       "Index: []"
      ]
     },
     "execution_count": 52,
     "metadata": {},
     "output_type": "execute_result"
    }
   ],
   "source": [
    "df[df['country']=='World']"
   ]
  },
  {
   "cell_type": "markdown",
   "id": "2348f197",
   "metadata": {},
   "source": [
    "#### We have successfully dropped the rows corresponding to the items in the drop_list!"
   ]
  },
  {
   "cell_type": "markdown",
   "id": "c109ce3b",
   "metadata": {},
   "source": [
    "## Preliminary inspection of the dataframe"
   ]
  },
  {
   "cell_type": "code",
   "execution_count": 53,
   "id": "fffff329",
   "metadata": {
    "scrolled": true
   },
   "outputs": [
    {
     "name": "stdout",
     "output_type": "stream",
     "text": [
      "<class 'pandas.core.frame.DataFrame'>\n",
      "RangeIndex: 41886 entries, 0 to 41885\n",
      "Data columns (total 7 columns):\n",
      " #   Column         Non-Null Count  Dtype  \n",
      "---  ------         --------------  -----  \n",
      " 0   country        41886 non-null  object \n",
      " 1   year           41886 non-null  int64  \n",
      " 2   population     37197 non-null  float64\n",
      " 3   gdp            14548 non-null  float64\n",
      " 4   co2            24425 non-null  float64\n",
      " 5   methane        5790 non-null   float64\n",
      " 6   nitrous_oxide  5790 non-null   float64\n",
      "dtypes: float64(5), int64(1), object(1)\n",
      "memory usage: 2.2+ MB\n"
     ]
    }
   ],
   "source": [
    "# Lets inspect the datatypes using the .info() function \n",
    "df.info()"
   ]
  },
  {
   "cell_type": "code",
   "execution_count": 54,
   "id": "650a7b4f",
   "metadata": {},
   "outputs": [
    {
     "data": {
      "text/plain": [
       "(41886, 7)"
      ]
     },
     "execution_count": 54,
     "metadata": {},
     "output_type": "execute_result"
    }
   ],
   "source": [
    "# Check the dimension of the data\n",
    "df.shape"
   ]
  },
  {
   "cell_type": "markdown",
   "id": "b6fde60a",
   "metadata": {},
   "source": [
    "### Removing NA/NaN values"
   ]
  },
  {
   "cell_type": "code",
   "execution_count": 55,
   "id": "2c2b23c9",
   "metadata": {},
   "outputs": [
    {
     "data": {
      "text/plain": [
       "(4667, 7)"
      ]
     },
     "execution_count": 55,
     "metadata": {},
     "output_type": "execute_result"
    }
   ],
   "source": [
    "# Before we continue with our analysis, let's remove the NA and NaN values from our dataframe\n",
    "df = df.dropna()\n",
    "df.shape"
   ]
  },
  {
   "cell_type": "markdown",
   "id": "410fa240",
   "metadata": {},
   "source": [
    "## Descriptive Statistics"
   ]
  },
  {
   "cell_type": "code",
   "execution_count": 56,
   "id": "a0817245",
   "metadata": {
    "scrolled": true
   },
   "outputs": [
    {
     "data": {
      "text/html": [
       "<div>\n",
       "<style scoped>\n",
       "    .dataframe tbody tr th:only-of-type {\n",
       "        vertical-align: middle;\n",
       "    }\n",
       "\n",
       "    .dataframe tbody tr th {\n",
       "        vertical-align: top;\n",
       "    }\n",
       "\n",
       "    .dataframe thead th {\n",
       "        text-align: right;\n",
       "    }\n",
       "</style>\n",
       "<table border=\"1\" class=\"dataframe\">\n",
       "  <thead>\n",
       "    <tr style=\"text-align: right;\">\n",
       "      <th></th>\n",
       "      <th>year</th>\n",
       "      <th>population</th>\n",
       "      <th>gdp</th>\n",
       "      <th>co2</th>\n",
       "      <th>methane</th>\n",
       "      <th>nitrous_oxide</th>\n",
       "    </tr>\n",
       "  </thead>\n",
       "  <tbody>\n",
       "    <tr>\n",
       "      <th>count</th>\n",
       "      <td>4667.000000</td>\n",
       "      <td>4.667000e+03</td>\n",
       "      <td>4.667000e+03</td>\n",
       "      <td>4667.000000</td>\n",
       "      <td>4667.000000</td>\n",
       "      <td>4667.000000</td>\n",
       "    </tr>\n",
       "    <tr>\n",
       "      <th>mean</th>\n",
       "      <td>2004.005357</td>\n",
       "      <td>3.966570e+07</td>\n",
       "      <td>4.517952e+11</td>\n",
       "      <td>172.803726</td>\n",
       "      <td>44.943094</td>\n",
       "      <td>16.189102</td>\n",
       "    </tr>\n",
       "    <tr>\n",
       "      <th>std</th>\n",
       "      <td>8.365279</td>\n",
       "      <td>1.392002e+08</td>\n",
       "      <td>1.511201e+12</td>\n",
       "      <td>714.540193</td>\n",
       "      <td>117.439841</td>\n",
       "      <td>45.120114</td>\n",
       "    </tr>\n",
       "    <tr>\n",
       "      <th>min</th>\n",
       "      <td>1990.000000</td>\n",
       "      <td>6.817100e+04</td>\n",
       "      <td>2.571720e+08</td>\n",
       "      <td>0.000000</td>\n",
       "      <td>0.010000</td>\n",
       "      <td>0.000000</td>\n",
       "    </tr>\n",
       "    <tr>\n",
       "      <th>25%</th>\n",
       "      <td>1997.000000</td>\n",
       "      <td>3.550387e+06</td>\n",
       "      <td>1.757572e+10</td>\n",
       "      <td>3.093000</td>\n",
       "      <td>3.980000</td>\n",
       "      <td>1.290000</td>\n",
       "    </tr>\n",
       "    <tr>\n",
       "      <th>50%</th>\n",
       "      <td>2004.000000</td>\n",
       "      <td>9.467384e+06</td>\n",
       "      <td>5.421742e+10</td>\n",
       "      <td>16.507000</td>\n",
       "      <td>11.210000</td>\n",
       "      <td>4.500000</td>\n",
       "    </tr>\n",
       "    <tr>\n",
       "      <th>75%</th>\n",
       "      <td>2011.000000</td>\n",
       "      <td>2.687995e+07</td>\n",
       "      <td>2.689692e+11</td>\n",
       "      <td>76.182000</td>\n",
       "      <td>34.800000</td>\n",
       "      <td>13.545000</td>\n",
       "    </tr>\n",
       "    <tr>\n",
       "      <th>max</th>\n",
       "      <td>2018.000000</td>\n",
       "      <td>1.417069e+09</td>\n",
       "      <td>1.815162e+13</td>\n",
       "      <td>10353.877000</td>\n",
       "      <td>1161.420000</td>\n",
       "      <td>552.670000</td>\n",
       "    </tr>\n",
       "  </tbody>\n",
       "</table>\n",
       "</div>"
      ],
      "text/plain": [
       "              year    population           gdp           co2      methane  \\\n",
       "count  4667.000000  4.667000e+03  4.667000e+03   4667.000000  4667.000000   \n",
       "mean   2004.005357  3.966570e+07  4.517952e+11    172.803726    44.943094   \n",
       "std       8.365279  1.392002e+08  1.511201e+12    714.540193   117.439841   \n",
       "min    1990.000000  6.817100e+04  2.571720e+08      0.000000     0.010000   \n",
       "25%    1997.000000  3.550387e+06  1.757572e+10      3.093000     3.980000   \n",
       "50%    2004.000000  9.467384e+06  5.421742e+10     16.507000    11.210000   \n",
       "75%    2011.000000  2.687995e+07  2.689692e+11     76.182000    34.800000   \n",
       "max    2018.000000  1.417069e+09  1.815162e+13  10353.877000  1161.420000   \n",
       "\n",
       "       nitrous_oxide  \n",
       "count    4667.000000  \n",
       "mean       16.189102  \n",
       "std        45.120114  \n",
       "min         0.000000  \n",
       "25%         1.290000  \n",
       "50%         4.500000  \n",
       "75%        13.545000  \n",
       "max       552.670000  "
      ]
     },
     "execution_count": 56,
     "metadata": {},
     "output_type": "execute_result"
    }
   ],
   "source": [
    "# Let's conduct a a preliminary descriptive analysis of the data using the .describe()function\n",
    "df.describe()"
   ]
  },
  {
   "cell_type": "markdown",
   "id": "656457aa",
   "metadata": {},
   "source": [
    "#### The analysis indicates a couple of important insights (E.g. the mean, std, min, max) that we can use before exploring the data more\n"
   ]
  },
  {
   "cell_type": "code",
   "execution_count": 57,
   "id": "aeac74f8",
   "metadata": {
    "scrolled": false
   },
   "outputs": [
    {
     "data": {
      "text/html": [
       "<div>\n",
       "<style scoped>\n",
       "    .dataframe tbody tr th:only-of-type {\n",
       "        vertical-align: middle;\n",
       "    }\n",
       "\n",
       "    .dataframe tbody tr th {\n",
       "        vertical-align: top;\n",
       "    }\n",
       "\n",
       "    .dataframe thead th {\n",
       "        text-align: right;\n",
       "    }\n",
       "</style>\n",
       "<table border=\"1\" class=\"dataframe\">\n",
       "  <thead>\n",
       "    <tr style=\"text-align: right;\">\n",
       "      <th></th>\n",
       "      <th>country</th>\n",
       "      <th>year</th>\n",
       "      <th>population</th>\n",
       "      <th>gdp</th>\n",
       "      <th>co2</th>\n",
       "      <th>methane</th>\n",
       "      <th>nitrous_oxide</th>\n",
       "    </tr>\n",
       "  </thead>\n",
       "  <tbody>\n",
       "    <tr>\n",
       "      <th>140</th>\n",
       "      <td>Afghanistan</td>\n",
       "      <td>1990</td>\n",
       "      <td>10694804.0</td>\n",
       "      <td>1.306598e+10</td>\n",
       "      <td>2.024</td>\n",
       "      <td>6.74</td>\n",
       "      <td>2.84</td>\n",
       "    </tr>\n",
       "    <tr>\n",
       "      <th>141</th>\n",
       "      <td>Afghanistan</td>\n",
       "      <td>1991</td>\n",
       "      <td>10745168.0</td>\n",
       "      <td>1.204736e+10</td>\n",
       "      <td>1.914</td>\n",
       "      <td>7.02</td>\n",
       "      <td>2.93</td>\n",
       "    </tr>\n",
       "    <tr>\n",
       "      <th>142</th>\n",
       "      <td>Afghanistan</td>\n",
       "      <td>1992</td>\n",
       "      <td>12057436.0</td>\n",
       "      <td>1.267754e+10</td>\n",
       "      <td>1.482</td>\n",
       "      <td>7.13</td>\n",
       "      <td>2.89</td>\n",
       "    </tr>\n",
       "    <tr>\n",
       "      <th>143</th>\n",
       "      <td>Afghanistan</td>\n",
       "      <td>1993</td>\n",
       "      <td>14003764.0</td>\n",
       "      <td>9.834581e+09</td>\n",
       "      <td>1.487</td>\n",
       "      <td>7.21</td>\n",
       "      <td>2.93</td>\n",
       "    </tr>\n",
       "    <tr>\n",
       "      <th>144</th>\n",
       "      <td>Afghanistan</td>\n",
       "      <td>1994</td>\n",
       "      <td>15455560.0</td>\n",
       "      <td>7.919857e+09</td>\n",
       "      <td>1.454</td>\n",
       "      <td>7.47</td>\n",
       "      <td>2.76</td>\n",
       "    </tr>\n",
       "  </tbody>\n",
       "</table>\n",
       "</div>"
      ],
      "text/plain": [
       "         country  year  population           gdp    co2  methane  \\\n",
       "140  Afghanistan  1990  10694804.0  1.306598e+10  2.024     6.74   \n",
       "141  Afghanistan  1991  10745168.0  1.204736e+10  1.914     7.02   \n",
       "142  Afghanistan  1992  12057436.0  1.267754e+10  1.482     7.13   \n",
       "143  Afghanistan  1993  14003764.0  9.834581e+09  1.487     7.21   \n",
       "144  Afghanistan  1994  15455560.0  7.919857e+09  1.454     7.47   \n",
       "\n",
       "     nitrous_oxide  \n",
       "140           2.84  \n",
       "141           2.93  \n",
       "142           2.89  \n",
       "143           2.93  \n",
       "144           2.76  "
      ]
     },
     "execution_count": 57,
     "metadata": {},
     "output_type": "execute_result"
    }
   ],
   "source": [
    "df.head()"
   ]
  },
  {
   "cell_type": "code",
   "execution_count": 58,
   "id": "8ba37d8b",
   "metadata": {},
   "outputs": [
    {
     "data": {
      "text/plain": [
       "2018"
      ]
     },
     "execution_count": 58,
     "metadata": {},
     "output_type": "execute_result"
    }
   ],
   "source": [
    "df.year.max()"
   ]
  },
  {
   "cell_type": "markdown",
   "id": "7e33d5aa",
   "metadata": {},
   "source": [
    "## Question 1: Which countries are the top CO2 emmitters in 2018"
   ]
  },
  {
   "cell_type": "code",
   "execution_count": 59,
   "id": "f1e19bff",
   "metadata": {},
   "outputs": [
    {
     "data": {
      "text/html": [
       "<div>\n",
       "<style scoped>\n",
       "    .dataframe tbody tr th:only-of-type {\n",
       "        vertical-align: middle;\n",
       "    }\n",
       "\n",
       "    .dataframe tbody tr th {\n",
       "        vertical-align: top;\n",
       "    }\n",
       "\n",
       "    .dataframe thead th {\n",
       "        text-align: right;\n",
       "    }\n",
       "</style>\n",
       "<table border=\"1\" class=\"dataframe\">\n",
       "  <thead>\n",
       "    <tr style=\"text-align: right;\">\n",
       "      <th></th>\n",
       "      <th>country</th>\n",
       "      <th>year</th>\n",
       "      <th>population</th>\n",
       "      <th>co2</th>\n",
       "      <th>methane</th>\n",
       "      <th>nitrous_oxide</th>\n",
       "    </tr>\n",
       "  </thead>\n",
       "  <tbody>\n",
       "    <tr>\n",
       "      <th>0</th>\n",
       "      <td>China</td>\n",
       "      <td>2018</td>\n",
       "      <td>1.417069e+09</td>\n",
       "      <td>10353.877</td>\n",
       "      <td>1159.28</td>\n",
       "      <td>545.19</td>\n",
       "    </tr>\n",
       "    <tr>\n",
       "      <th>1</th>\n",
       "      <td>United States</td>\n",
       "      <td>2018</td>\n",
       "      <td>3.321400e+08</td>\n",
       "      <td>5376.657</td>\n",
       "      <td>710.57</td>\n",
       "      <td>268.55</td>\n",
       "    </tr>\n",
       "    <tr>\n",
       "      <th>2</th>\n",
       "      <td>India</td>\n",
       "      <td>2018</td>\n",
       "      <td>1.369003e+09</td>\n",
       "      <td>2600.447</td>\n",
       "      <td>657.15</td>\n",
       "      <td>265.59</td>\n",
       "    </tr>\n",
       "    <tr>\n",
       "      <th>3</th>\n",
       "      <td>Russia</td>\n",
       "      <td>2018</td>\n",
       "      <td>1.456523e+08</td>\n",
       "      <td>1700.453</td>\n",
       "      <td>673.31</td>\n",
       "      <td>64.67</td>\n",
       "    </tr>\n",
       "    <tr>\n",
       "      <th>4</th>\n",
       "      <td>Japan</td>\n",
       "      <td>2018</td>\n",
       "      <td>1.262559e+08</td>\n",
       "      <td>1143.412</td>\n",
       "      <td>27.93</td>\n",
       "      <td>18.81</td>\n",
       "    </tr>\n",
       "    <tr>\n",
       "      <th>5</th>\n",
       "      <td>Germany</td>\n",
       "      <td>2018</td>\n",
       "      <td>8.289670e+07</td>\n",
       "      <td>754.408</td>\n",
       "      <td>49.85</td>\n",
       "      <td>33.12</td>\n",
       "    </tr>\n",
       "    <tr>\n",
       "      <th>6</th>\n",
       "      <td>Iran</td>\n",
       "      <td>2018</td>\n",
       "      <td>8.561756e+07</td>\n",
       "      <td>700.938</td>\n",
       "      <td>239.79</td>\n",
       "      <td>36.59</td>\n",
       "    </tr>\n",
       "    <tr>\n",
       "      <th>7</th>\n",
       "      <td>South Korea</td>\n",
       "      <td>2018</td>\n",
       "      <td>5.167690e+07</td>\n",
       "      <td>670.169</td>\n",
       "      <td>22.84</td>\n",
       "      <td>10.31</td>\n",
       "    </tr>\n",
       "    <tr>\n",
       "      <th>8</th>\n",
       "      <td>Saudi Arabia</td>\n",
       "      <td>2018</td>\n",
       "      <td>3.501813e+07</td>\n",
       "      <td>626.191</td>\n",
       "      <td>112.30</td>\n",
       "      <td>8.07</td>\n",
       "    </tr>\n",
       "    <tr>\n",
       "      <th>9</th>\n",
       "      <td>Indonesia</td>\n",
       "      <td>2018</td>\n",
       "      <td>2.670668e+08</td>\n",
       "      <td>603.657</td>\n",
       "      <td>327.29</td>\n",
       "      <td>98.37</td>\n",
       "    </tr>\n",
       "  </tbody>\n",
       "</table>\n",
       "</div>"
      ],
      "text/plain": [
       "         country  year    population        co2  methane  nitrous_oxide\n",
       "0          China  2018  1.417069e+09  10353.877  1159.28         545.19\n",
       "1  United States  2018  3.321400e+08   5376.657   710.57         268.55\n",
       "2          India  2018  1.369003e+09   2600.447   657.15         265.59\n",
       "3         Russia  2018  1.456523e+08   1700.453   673.31          64.67\n",
       "4          Japan  2018  1.262559e+08   1143.412    27.93          18.81\n",
       "5        Germany  2018  8.289670e+07    754.408    49.85          33.12\n",
       "6           Iran  2018  8.561756e+07    700.938   239.79          36.59\n",
       "7    South Korea  2018  5.167690e+07    670.169    22.84          10.31\n",
       "8   Saudi Arabia  2018  3.501813e+07    626.191   112.30           8.07\n",
       "9      Indonesia  2018  2.670668e+08    603.657   327.29          98.37"
      ]
     },
     "execution_count": 59,
     "metadata": {},
     "output_type": "execute_result"
    }
   ],
   "source": [
    "top_2018_emitters = df[df.year == 2018].sort_values(by='co2', ascending=False, ignore_index=True).head(10)\n",
    "top_2018_emitters= top_2018_emitters[['country', 'year', 'population', 'co2','methane', 'nitrous_oxide']]\n",
    "top_2018_emitters"
   ]
  },
  {
   "cell_type": "code",
   "execution_count": 60,
   "id": "9a943a61",
   "metadata": {},
   "outputs": [
    {
     "data": {
      "image/png": "[encoded data removed]",
      "text/plain": [
       "<Figure size 640x480 with 1 Axes>"
      ]
     },
     "metadata": {},
     "output_type": "display_data"
    }
   ],
   "source": [
    "plt.bar(top_2018_emitters.country, top_2018_emitters.co2,color=\"black\")\n",
    "plt.title(\"Top 10 CO2 emitting countries in 2018\")\n",
    "plt.xticks(rotation=45, ha= 'right')\n",
    "#plt.xlabel('Country')\n",
    "#plt.ylabel('co2')\n",
    "plt.show()"
   ]
  },
  {
   "cell_type": "markdown",
   "id": "163af449",
   "metadata": {},
   "source": [
    "## Question 2: What is the trend of greenhouse gas emission over time for the top  5 countries?"
   ]
  },
  {
   "cell_type": "code",
   "execution_count": 61,
   "id": "5051bcb6",
   "metadata": {},
   "outputs": [
    {
     "data": {
      "text/plain": [
       "['China',\n",
       " 'United States',\n",
       " 'India',\n",
       " 'Russia',\n",
       " 'Japan',\n",
       " 'Germany',\n",
       " 'Iran',\n",
       " 'South Korea',\n",
       " 'Saudi Arabia',\n",
       " 'Indonesia']"
      ]
     },
     "execution_count": 61,
     "metadata": {},
     "output_type": "execute_result"
    }
   ],
   "source": [
    "# let's first extract the top 10 countries from the top_2018_emitters dataframe\n",
    "top10_countries = list(top_2018_emitters['country'])\n",
    "top10_countries"
   ]
  },
  {
   "cell_type": "code",
   "execution_count": 62,
   "id": "7a07348e",
   "metadata": {
    "scrolled": true
   },
   "outputs": [],
   "source": [
    "overtime = [df[df['country']==country] for country in top10_countries]"
   ]
  },
  {
   "cell_type": "code",
   "execution_count": 63,
   "id": "1a8e8228",
   "metadata": {},
   "outputs": [
    {
     "data": {
      "text/html": [
       "<div>\n",
       "<style scoped>\n",
       "    .dataframe tbody tr th:only-of-type {\n",
       "        vertical-align: middle;\n",
       "    }\n",
       "\n",
       "    .dataframe tbody tr th {\n",
       "        vertical-align: top;\n",
       "    }\n",
       "\n",
       "    .dataframe thead th {\n",
       "        text-align: right;\n",
       "    }\n",
       "</style>\n",
       "<table border=\"1\" class=\"dataframe\">\n",
       "  <thead>\n",
       "    <tr style=\"text-align: right;\">\n",
       "      <th></th>\n",
       "      <th>country</th>\n",
       "      <th>year</th>\n",
       "      <th>population</th>\n",
       "      <th>gdp</th>\n",
       "      <th>co2</th>\n",
       "      <th>methane</th>\n",
       "      <th>nitrous_oxide</th>\n",
       "    </tr>\n",
       "  </thead>\n",
       "  <tbody>\n",
       "    <tr>\n",
       "      <th>7891</th>\n",
       "      <td>China</td>\n",
       "      <td>1990</td>\n",
       "      <td>1.153704e+09</td>\n",
       "      <td>3.385122e+12</td>\n",
       "      <td>2484.855</td>\n",
       "      <td>765.84</td>\n",
       "      <td>296.17</td>\n",
       "    </tr>\n",
       "    <tr>\n",
       "      <th>7892</th>\n",
       "      <td>China</td>\n",
       "      <td>1991</td>\n",
       "      <td>1.170626e+09</td>\n",
       "      <td>3.508948e+12</td>\n",
       "      <td>2606.096</td>\n",
       "      <td>775.53</td>\n",
       "      <td>303.72</td>\n",
       "    </tr>\n",
       "    <tr>\n",
       "      <th>7893</th>\n",
       "      <td>China</td>\n",
       "      <td>1992</td>\n",
       "      <td>1.183813e+09</td>\n",
       "      <td>3.755037e+12</td>\n",
       "      <td>2730.788</td>\n",
       "      <td>781.19</td>\n",
       "      <td>309.60</td>\n",
       "    </tr>\n",
       "    <tr>\n",
       "      <th>7894</th>\n",
       "      <td>China</td>\n",
       "      <td>1993</td>\n",
       "      <td>1.195856e+09</td>\n",
       "      <td>4.126170e+12</td>\n",
       "      <td>2921.651</td>\n",
       "      <td>790.54</td>\n",
       "      <td>301.41</td>\n",
       "    </tr>\n",
       "    <tr>\n",
       "      <th>7895</th>\n",
       "      <td>China</td>\n",
       "      <td>1994</td>\n",
       "      <td>1.207287e+09</td>\n",
       "      <td>4.438753e+12</td>\n",
       "      <td>3100.002</td>\n",
       "      <td>812.96</td>\n",
       "      <td>314.95</td>\n",
       "    </tr>\n",
       "  </tbody>\n",
       "</table>\n",
       "</div>"
      ],
      "text/plain": [
       "     country  year    population           gdp       co2  methane  \\\n",
       "7891   China  1990  1.153704e+09  3.385122e+12  2484.855   765.84   \n",
       "7892   China  1991  1.170626e+09  3.508948e+12  2606.096   775.53   \n",
       "7893   China  1992  1.183813e+09  3.755037e+12  2730.788   781.19   \n",
       "7894   China  1993  1.195856e+09  4.126170e+12  2921.651   790.54   \n",
       "7895   China  1994  1.207287e+09  4.438753e+12  3100.002   812.96   \n",
       "\n",
       "      nitrous_oxide  \n",
       "7891         296.17  \n",
       "7892         303.72  \n",
       "7893         309.60  \n",
       "7894         301.41  \n",
       "7895         314.95  "
      ]
     },
     "execution_count": 63,
     "metadata": {},
     "output_type": "execute_result"
    }
   ],
   "source": [
    "overtime[0].head(5)"
   ]
  },
  {
   "cell_type": "code",
   "execution_count": 64,
   "id": "43294b6c",
   "metadata": {},
   "outputs": [
    {
     "data": {
      "text/plain": [
       "pandas.core.frame.DataFrame"
      ]
     },
     "execution_count": 64,
     "metadata": {},
     "output_type": "execute_result"
    }
   ],
   "source": [
    "type(overtime[0])"
   ]
  },
  {
   "cell_type": "code",
   "execution_count": 65,
   "id": "de4ed952",
   "metadata": {},
   "outputs": [],
   "source": [
    "top10_overtime = pd.DataFrame(columns = \n",
    "                              ['country', \n",
    "                               'year', \n",
    "                               'population', \n",
    "                               'gdp', \n",
    "                               'co2', \n",
    "                               'methane', \n",
    "                               'nitrous_oxide'])"
   ]
  },
  {
   "cell_type": "code",
   "execution_count": 66,
   "id": "6cbb739e",
   "metadata": {
    "scrolled": true
   },
   "outputs": [],
   "source": [
    "my_list = []\n",
    "for index, item in enumerate(overtime): \n",
    "    data = item\n",
    "    my_list.append(data)\n",
    "top10_overtime = pd.concat(my_list)"
   ]
  },
  {
   "cell_type": "code",
   "execution_count": 67,
   "id": "ed34e17a",
   "metadata": {},
   "outputs": [
    {
     "data": {
      "text/html": [
       "<div>\n",
       "<style scoped>\n",
       "    .dataframe tbody tr th:only-of-type {\n",
       "        vertical-align: middle;\n",
       "    }\n",
       "\n",
       "    .dataframe tbody tr th {\n",
       "        vertical-align: top;\n",
       "    }\n",
       "\n",
       "    .dataframe thead th {\n",
       "        text-align: right;\n",
       "    }\n",
       "</style>\n",
       "<table border=\"1\" class=\"dataframe\">\n",
       "  <thead>\n",
       "    <tr style=\"text-align: right;\">\n",
       "      <th></th>\n",
       "      <th>country</th>\n",
       "      <th>year</th>\n",
       "      <th>population</th>\n",
       "      <th>gdp</th>\n",
       "      <th>co2</th>\n",
       "      <th>methane</th>\n",
       "      <th>nitrous_oxide</th>\n",
       "    </tr>\n",
       "  </thead>\n",
       "  <tbody>\n",
       "    <tr>\n",
       "      <th>7891</th>\n",
       "      <td>China</td>\n",
       "      <td>1990</td>\n",
       "      <td>1.153704e+09</td>\n",
       "      <td>3.385122e+12</td>\n",
       "      <td>2484.855</td>\n",
       "      <td>765.84</td>\n",
       "      <td>296.17</td>\n",
       "    </tr>\n",
       "    <tr>\n",
       "      <th>7892</th>\n",
       "      <td>China</td>\n",
       "      <td>1991</td>\n",
       "      <td>1.170626e+09</td>\n",
       "      <td>3.508948e+12</td>\n",
       "      <td>2606.096</td>\n",
       "      <td>775.53</td>\n",
       "      <td>303.72</td>\n",
       "    </tr>\n",
       "    <tr>\n",
       "      <th>7893</th>\n",
       "      <td>China</td>\n",
       "      <td>1992</td>\n",
       "      <td>1.183813e+09</td>\n",
       "      <td>3.755037e+12</td>\n",
       "      <td>2730.788</td>\n",
       "      <td>781.19</td>\n",
       "      <td>309.60</td>\n",
       "    </tr>\n",
       "    <tr>\n",
       "      <th>7894</th>\n",
       "      <td>China</td>\n",
       "      <td>1993</td>\n",
       "      <td>1.195856e+09</td>\n",
       "      <td>4.126170e+12</td>\n",
       "      <td>2921.651</td>\n",
       "      <td>790.54</td>\n",
       "      <td>301.41</td>\n",
       "    </tr>\n",
       "    <tr>\n",
       "      <th>7895</th>\n",
       "      <td>China</td>\n",
       "      <td>1994</td>\n",
       "      <td>1.207287e+09</td>\n",
       "      <td>4.438753e+12</td>\n",
       "      <td>3100.002</td>\n",
       "      <td>812.96</td>\n",
       "      <td>314.95</td>\n",
       "    </tr>\n",
       "    <tr>\n",
       "      <th>...</th>\n",
       "      <td>...</td>\n",
       "      <td>...</td>\n",
       "      <td>...</td>\n",
       "      <td>...</td>\n",
       "      <td>...</td>\n",
       "      <td>...</td>\n",
       "      <td>...</td>\n",
       "    </tr>\n",
       "    <tr>\n",
       "      <th>17670</th>\n",
       "      <td>Indonesia</td>\n",
       "      <td>2014</td>\n",
       "      <td>2.562298e+08</td>\n",
       "      <td>2.526853e+12</td>\n",
       "      <td>487.890</td>\n",
       "      <td>391.81</td>\n",
       "      <td>88.02</td>\n",
       "    </tr>\n",
       "    <tr>\n",
       "      <th>17671</th>\n",
       "      <td>Indonesia</td>\n",
       "      <td>2015</td>\n",
       "      <td>2.590920e+08</td>\n",
       "      <td>2.650203e+12</td>\n",
       "      <td>539.149</td>\n",
       "      <td>403.76</td>\n",
       "      <td>88.89</td>\n",
       "    </tr>\n",
       "    <tr>\n",
       "      <th>17672</th>\n",
       "      <td>Indonesia</td>\n",
       "      <td>2016</td>\n",
       "      <td>2.618502e+08</td>\n",
       "      <td>2.783165e+12</td>\n",
       "      <td>552.651</td>\n",
       "      <td>287.13</td>\n",
       "      <td>88.85</td>\n",
       "    </tr>\n",
       "    <tr>\n",
       "      <th>17673</th>\n",
       "      <td>Indonesia</td>\n",
       "      <td>2017</td>\n",
       "      <td>2.644988e+08</td>\n",
       "      <td>2.924271e+12</td>\n",
       "      <td>567.255</td>\n",
       "      <td>283.83</td>\n",
       "      <td>94.83</td>\n",
       "    </tr>\n",
       "    <tr>\n",
       "      <th>17674</th>\n",
       "      <td>Indonesia</td>\n",
       "      <td>2018</td>\n",
       "      <td>2.670668e+08</td>\n",
       "      <td>3.075456e+12</td>\n",
       "      <td>603.657</td>\n",
       "      <td>327.29</td>\n",
       "      <td>98.37</td>\n",
       "    </tr>\n",
       "  </tbody>\n",
       "</table>\n",
       "<p>290 rows × 7 columns</p>\n",
       "</div>"
      ],
      "text/plain": [
       "         country  year    population           gdp       co2  methane  \\\n",
       "7891       China  1990  1.153704e+09  3.385122e+12  2484.855   765.84   \n",
       "7892       China  1991  1.170626e+09  3.508948e+12  2606.096   775.53   \n",
       "7893       China  1992  1.183813e+09  3.755037e+12  2730.788   781.19   \n",
       "7894       China  1993  1.195856e+09  4.126170e+12  2921.651   790.54   \n",
       "7895       China  1994  1.207287e+09  4.438753e+12  3100.002   812.96   \n",
       "...          ...   ...           ...           ...       ...      ...   \n",
       "17670  Indonesia  2014  2.562298e+08  2.526853e+12   487.890   391.81   \n",
       "17671  Indonesia  2015  2.590920e+08  2.650203e+12   539.149   403.76   \n",
       "17672  Indonesia  2016  2.618502e+08  2.783165e+12   552.651   287.13   \n",
       "17673  Indonesia  2017  2.644988e+08  2.924271e+12   567.255   283.83   \n",
       "17674  Indonesia  2018  2.670668e+08  3.075456e+12   603.657   327.29   \n",
       "\n",
       "       nitrous_oxide  \n",
       "7891          296.17  \n",
       "7892          303.72  \n",
       "7893          309.60  \n",
       "7894          301.41  \n",
       "7895          314.95  \n",
       "...              ...  \n",
       "17670          88.02  \n",
       "17671          88.89  \n",
       "17672          88.85  \n",
       "17673          94.83  \n",
       "17674          98.37  \n",
       "\n",
       "[290 rows x 7 columns]"
      ]
     },
     "execution_count": 67,
     "metadata": {},
     "output_type": "execute_result"
    }
   ],
   "source": [
    "top10_overtime"
   ]
  },
  {
   "cell_type": "code",
   "execution_count": 68,
   "id": "44c8b0ab",
   "metadata": {},
   "outputs": [
    {
     "data": {
      "text/plain": [
       "array(['China', 'United States', 'India', 'Russia', 'Japan', 'Germany',\n",
       "       'Iran', 'South Korea', 'Saudi Arabia', 'Indonesia'], dtype=object)"
      ]
     },
     "execution_count": 68,
     "metadata": {},
     "output_type": "execute_result"
    }
   ],
   "source": [
    "top10_overtime.country.unique()"
   ]
  },
  {
   "cell_type": "code",
   "execution_count": 69,
   "id": "4c25c5f0",
   "metadata": {},
   "outputs": [
    {
     "data": {
      "text/plain": [
       "Text(0.5, 1.0, 'Trend of CO2 emission overtime by the top 5 countries')"
      ]
     },
     "execution_count": 69,
     "metadata": {},
     "output_type": "execute_result"
    },
    {
     "data": {
      "image/png": "[encoded data removed]",
      "text/plain": [
       "<Figure size 640x480 with 1 Axes>"
      ]
     },
     "metadata": {},
     "output_type": "display_data"
    }
   ],
   "source": [
    "plt.plot('year', 'co2', data=top10_overtime[top10_overtime.country==\"China\"])\n",
    "plt.plot('year', 'co2', data=top10_overtime[top10_overtime.country==\"United States\"])\n",
    "plt.plot('year', 'co2', data=top10_overtime[top10_overtime.country==\"India\"])\n",
    "plt.plot('year', 'co2', data=top10_overtime[top10_overtime.country==\"Russia\"])\n",
    "plt.plot('year', 'co2', data=top10_overtime[top10_overtime.country==\"Japan\"])\n",
    "plt.legend([\"China\", \"United States\", \"India\", \"Russia\", \"Japan\"])\n",
    "plt.title(\"Trend of CO2 emission overtime by the top 5 countries\")"
   ]
  },
  {
   "cell_type": "code",
   "execution_count": 70,
   "id": "60d96b59",
   "metadata": {},
   "outputs": [
    {
     "data": {
      "text/plain": [
       "<matplotlib.legend.Legend at 0x173c54150>"
      ]
     },
     "execution_count": 70,
     "metadata": {},
     "output_type": "execute_result"
    },
    {
     "data": {
      "image/png": "[encoded data removed]",
      "text/plain": [
       "<Figure size 640x480 with 2 Axes>"
      ]
     },
     "metadata": {},
     "output_type": "display_data"
    }
   ],
   "source": [
    "fig, (ax1, ax2) = plt.subplots(1,2)\n",
    "ax1.plot('year', 'methane', data=top10_overtime[top10_overtime.country==\"China\"])\n",
    "ax1.plot('year', 'methane', data=top10_overtime[top10_overtime.country==\"United States\"])\n",
    "ax1.plot('year', 'methane', data=top10_overtime[top10_overtime.country==\"India\"])\n",
    "ax1.plot('year', 'methane', data=top10_overtime[top10_overtime.country==\"Russia\"])\n",
    "ax1.plot('year', 'methane', data=top10_overtime[top10_overtime.country==\"Japan\"])\n",
    "ax1.set_title(\"Methane emission by \\n top 5 countries\")\n",
    "ax1.legend([\"China\", \"United States\", \"India\", \"Russia\", \"Japan\"])\n",
    "ax2.plot('year', 'nitrous_oxide', data=top10_overtime[top10_overtime.country==\"China\"])\n",
    "ax2.plot('year', 'nitrous_oxide', data=top10_overtime[top10_overtime.country==\"United States\"])\n",
    "ax2.plot('year', 'nitrous_oxide', data=top10_overtime[top10_overtime.country==\"India\"])\n",
    "ax2.plot('year', 'nitrous_oxide', data=top10_overtime[top10_overtime.country==\"Russia\"])\n",
    "ax2.plot('year', 'nitrous_oxide', data=top10_overtime[top10_overtime.country==\"Japan\"])\n",
    "ax2.set_title(\"Nitrous oxide emission \\n by top 5 countries\")\n",
    "ax2.legend([\"China\", \"United States\", \"India\", \"Russia\", \"Japan\"])"
   ]
  },
  {
   "cell_type": "markdown",
   "id": "0c849d00",
   "metadata": {},
   "source": [
    "## Question 3: Is there any relationship between GDP and CO2 emission?"
   ]
  },
  {
   "cell_type": "code",
   "execution_count": 71,
   "id": "953eddba",
   "metadata": {
    "scrolled": false
   },
   "outputs": [
    {
     "data": {
      "text/html": [
       "<div>\n",
       "<style scoped>\n",
       "    .dataframe tbody tr th:only-of-type {\n",
       "        vertical-align: middle;\n",
       "    }\n",
       "\n",
       "    .dataframe tbody tr th {\n",
       "        vertical-align: top;\n",
       "    }\n",
       "\n",
       "    .dataframe thead th {\n",
       "        text-align: right;\n",
       "    }\n",
       "</style>\n",
       "<table border=\"1\" class=\"dataframe\">\n",
       "  <thead>\n",
       "    <tr style=\"text-align: right;\">\n",
       "      <th></th>\n",
       "      <th>country</th>\n",
       "      <th>year</th>\n",
       "      <th>population</th>\n",
       "      <th>gdp</th>\n",
       "      <th>co2</th>\n",
       "      <th>methane</th>\n",
       "      <th>nitrous_oxide</th>\n",
       "    </tr>\n",
       "  </thead>\n",
       "  <tbody>\n",
       "    <tr>\n",
       "      <th>140</th>\n",
       "      <td>Afghanistan</td>\n",
       "      <td>1990</td>\n",
       "      <td>10694804.0</td>\n",
       "      <td>1.306598e+10</td>\n",
       "      <td>2.024</td>\n",
       "      <td>6.74</td>\n",
       "      <td>2.84</td>\n",
       "    </tr>\n",
       "    <tr>\n",
       "      <th>141</th>\n",
       "      <td>Afghanistan</td>\n",
       "      <td>1991</td>\n",
       "      <td>10745168.0</td>\n",
       "      <td>1.204736e+10</td>\n",
       "      <td>1.914</td>\n",
       "      <td>7.02</td>\n",
       "      <td>2.93</td>\n",
       "    </tr>\n",
       "    <tr>\n",
       "      <th>142</th>\n",
       "      <td>Afghanistan</td>\n",
       "      <td>1992</td>\n",
       "      <td>12057436.0</td>\n",
       "      <td>1.267754e+10</td>\n",
       "      <td>1.482</td>\n",
       "      <td>7.13</td>\n",
       "      <td>2.89</td>\n",
       "    </tr>\n",
       "    <tr>\n",
       "      <th>143</th>\n",
       "      <td>Afghanistan</td>\n",
       "      <td>1993</td>\n",
       "      <td>14003764.0</td>\n",
       "      <td>9.834581e+09</td>\n",
       "      <td>1.487</td>\n",
       "      <td>7.21</td>\n",
       "      <td>2.93</td>\n",
       "    </tr>\n",
       "    <tr>\n",
       "      <th>144</th>\n",
       "      <td>Afghanistan</td>\n",
       "      <td>1994</td>\n",
       "      <td>15455560.0</td>\n",
       "      <td>7.919857e+09</td>\n",
       "      <td>1.454</td>\n",
       "      <td>7.47</td>\n",
       "      <td>2.76</td>\n",
       "    </tr>\n",
       "  </tbody>\n",
       "</table>\n",
       "</div>"
      ],
      "text/plain": [
       "         country  year  population           gdp    co2  methane  \\\n",
       "140  Afghanistan  1990  10694804.0  1.306598e+10  2.024     6.74   \n",
       "141  Afghanistan  1991  10745168.0  1.204736e+10  1.914     7.02   \n",
       "142  Afghanistan  1992  12057436.0  1.267754e+10  1.482     7.13   \n",
       "143  Afghanistan  1993  14003764.0  9.834581e+09  1.487     7.21   \n",
       "144  Afghanistan  1994  15455560.0  7.919857e+09  1.454     7.47   \n",
       "\n",
       "     nitrous_oxide  \n",
       "140           2.84  \n",
       "141           2.93  \n",
       "142           2.89  \n",
       "143           2.93  \n",
       "144           2.76  "
      ]
     },
     "execution_count": 71,
     "metadata": {},
     "output_type": "execute_result"
    }
   ],
   "source": [
    "df.head()"
   ]
  },
  {
   "cell_type": "code",
   "execution_count": 72,
   "id": "66cfde86",
   "metadata": {
    "scrolled": false
   },
   "outputs": [
    {
     "data": {
      "text/plain": [
       "[Text(0.5, 1.0, 'Relationship between gdp and co2 emission')]"
      ]
     },
     "execution_count": 72,
     "metadata": {},
     "output_type": "execute_result"
    },
    {
     "data": {
      "image/png": "[encoded data removed]",
      "text/plain": [
       "<Figure size 640x480 with 1 Axes>"
      ]
     },
     "metadata": {},
     "output_type": "display_data"
    }
   ],
   "source": [
    "sb.scatterplot(x='gdp', y='co2', data = df, hue='gdp').set(title=\"Relationship between gdp and co2 emission\")"
   ]
  },
  {
   "cell_type": "markdown",
   "id": "f7005d18",
   "metadata": {},
   "source": [
    "### Conclusion: Yes, the data indicate that, overall, countries with higher gdp contribute more to CO2 emission. "
   ]
  },
  {
   "cell_type": "markdown",
   "id": "26a24307",
   "metadata": {},
   "source": [
    "## Question 4: Are the emissions of Greenhouse gases correlated with each other?"
   ]
  },
  {
   "cell_type": "code",
   "execution_count": 78,
   "id": "dd3100b1",
   "metadata": {},
   "outputs": [
    {
     "data": {
      "text/plain": [
       "[Text(0.5, 1.0, 'Relationship between nitrous oxide and co2 emission')]"
      ]
     },
     "execution_count": 78,
     "metadata": {},
     "output_type": "execute_result"
    },
    {
     "data": {
      "image/png": "[encoded data removed]",
      "text/plain": [
       "<Figure size 640x480 with 1 Axes>"
      ]
     },
     "metadata": {},
     "output_type": "display_data"
    }
   ],
   "source": [
    "sb.scatterplot(x='nitrous_oxide', y='co2', \n",
    "               data = df, hue='gdp').set(title=\"Relationship between nitrous oxide and co2 emission\")"
   ]
  },
  {
   "cell_type": "code",
   "execution_count": 79,
   "id": "93121f3b",
   "metadata": {},
   "outputs": [
    {
     "data": {
      "text/plain": [
       "[Text(0.5, 1.0, 'Relationship between methane and co2 emission')]"
      ]
     },
     "execution_count": 79,
     "metadata": {},
     "output_type": "execute_result"
    },
    {
     "data": {
      "image/png": "[encoded data removed]",
      "text/plain": [
       "<Figure size 640x480 with 1 Axes>"
      ]
     },
     "metadata": {},
     "output_type": "display_data"
    }
   ],
   "source": [
    "sb.scatterplot(x='methane', y='co2', \n",
    "               data = df, hue='gdp').set(title=\"Relationship between methane and co2 emission\")"
   ]
  },
  {
   "cell_type": "code",
   "execution_count": 80,
   "id": "d7e76669",
   "metadata": {},
   "outputs": [
    {
     "data": {
      "text/plain": [
       "[Text(0.5, 1.0, 'Relationship between nitrous oxide and methane emission')]"
      ]
     },
     "execution_count": 80,
     "metadata": {},
     "output_type": "execute_result"
    },
    {
     "data": {
      "image/png": "[encoded data removed]",
      "text/plain": [
       "<Figure size 640x480 with 1 Axes>"
      ]
     },
     "metadata": {},
     "output_type": "display_data"
    }
   ],
   "source": [
    "sb.scatterplot(x='nitrous_oxide', y='methane', \n",
    "               data = df, hue='gdp').set(title=\"Relationship between nitrous oxide and methane emission\")"
   ]
  },
  {
   "cell_type": "markdown",
   "id": "8f939d53",
   "metadata": {},
   "source": [
    "### Conclusion: Yes, it seems possible to conclude that the emission of the greenhouse gasses is correlated. "
   ]
  },
  {
   "cell_type": "code",
   "execution_count": null,
   "id": "87d37742",
   "metadata": {},
   "outputs": [],
   "source": []
  }
 ],
 "metadata": {
  "kernelspec": {
   "display_name": "Python 3 (ipykernel)",
   "language": "python",
   "name": "python3"
  },
  "language_info": {
   "codemirror_mode": {
    "name": "ipython",
    "version": 3
   },
   "file_extension": ".py",
   "mimetype": "text/x-python",
   "name": "python",
   "nbconvert_exporter": "python",
   "pygments_lexer": "ipython3",
   "version": "3.11.5"
  }
 },
 "nbformat": 4,
 "nbformat_minor": 5
}
